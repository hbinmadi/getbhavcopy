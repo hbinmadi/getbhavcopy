{
  "nbformat": 4,
  "nbformat_minor": 0,
  "metadata": {
    "kernelspec": {
      "display_name": "Python 3",
      "language": "python",
      "name": "python3"
    },
    "language_info": {
      "codemirror_mode": {
        "name": "ipython",
        "version": 3
      },
      "file_extension": ".py",
      "mimetype": "text/x-python",
      "name": "python",
      "nbconvert_exporter": "python",
      "pygments_lexer": "ipython3",
      "version": "3.7.3"
    },
    "colab": {
      "name": "Rlwith-sma-obv-rsi-.ipynb",
      "provenance": [],
      "collapsed_sections": [],
      "include_colab_link": true
    },
    "accelerator": "GPU"
  },
  "cells": [
    {
      "cell_type": "markdown",
      "metadata": {
        "id": "view-in-github",
        "colab_type": "text"
      },
      "source": [
        "<a href=\"https://colab.research.google.com/github/hbinmadi/getbhavcopy/blob/master/Rlwith_sma_obv_rsi_.ipynb\" target=\"_parent\"><img src=\"https://colab.research.google.com/assets/colab-badge.svg\" alt=\"Open In Colab\"/></a>"
      ]
    },
    {
      "cell_type": "markdown",
      "metadata": {
        "id": "tNMXJQSNa0hh"
      },
      "source": [
        "# 0. Install and Import dependencies"
      ]
    },
    {
      "cell_type": "code",
      "metadata": {
        "id": "st22A0nKa0hj",
        "colab": {
          "base_uri": "https://localhost:8080/"
        },
        "outputId": "48c68254-d177-48ba-8992-9daeab33bce2"
      },
      "source": [
        "!pip install stable-baselines3 gym-anytrading gym\n",
        "!pip install yahoo_fin"
      ],
      "execution_count": null,
      "outputs": [
        {
          "output_type": "stream",
          "text": [
            "Requirement already satisfied: stable-baselines3 in /usr/local/lib/python3.7/dist-packages (1.0)\n",
            "Requirement already satisfied: gym-anytrading in /usr/local/lib/python3.7/dist-packages (1.2.0)\n",
            "Requirement already satisfied: gym in /usr/local/lib/python3.7/dist-packages (0.17.3)\n",
            "Requirement already satisfied: torch>=1.4.0 in /usr/local/lib/python3.7/dist-packages (from stable-baselines3) (1.8.1+cu101)\n",
            "Requirement already satisfied: matplotlib in /usr/local/lib/python3.7/dist-packages (from stable-baselines3) (3.2.2)\n",
            "Requirement already satisfied: pandas in /usr/local/lib/python3.7/dist-packages (from stable-baselines3) (1.1.5)\n",
            "Requirement already satisfied: cloudpickle in /usr/local/lib/python3.7/dist-packages (from stable-baselines3) (1.3.0)\n",
            "Requirement already satisfied: numpy in /usr/local/lib/python3.7/dist-packages (from stable-baselines3) (1.19.5)\n",
            "Requirement already satisfied: pyglet<=1.5.0,>=1.4.0 in /usr/local/lib/python3.7/dist-packages (from gym) (1.5.0)\n",
            "Requirement already satisfied: scipy in /usr/local/lib/python3.7/dist-packages (from gym) (1.4.1)\n",
            "Requirement already satisfied: typing-extensions in /usr/local/lib/python3.7/dist-packages (from torch>=1.4.0->stable-baselines3) (3.7.4.3)\n",
            "Requirement already satisfied: python-dateutil>=2.1 in /usr/local/lib/python3.7/dist-packages (from matplotlib->stable-baselines3) (2.8.1)\n",
            "Requirement already satisfied: kiwisolver>=1.0.1 in /usr/local/lib/python3.7/dist-packages (from matplotlib->stable-baselines3) (1.3.1)\n",
            "Requirement already satisfied: pyparsing!=2.0.4,!=2.1.2,!=2.1.6,>=2.0.1 in /usr/local/lib/python3.7/dist-packages (from matplotlib->stable-baselines3) (2.4.7)\n",
            "Requirement already satisfied: cycler>=0.10 in /usr/local/lib/python3.7/dist-packages (from matplotlib->stable-baselines3) (0.10.0)\n",
            "Requirement already satisfied: pytz>=2017.2 in /usr/local/lib/python3.7/dist-packages (from pandas->stable-baselines3) (2018.9)\n",
            "Requirement already satisfied: future in /usr/local/lib/python3.7/dist-packages (from pyglet<=1.5.0,>=1.4.0->gym) (0.16.0)\n",
            "Requirement already satisfied: six>=1.5 in /usr/local/lib/python3.7/dist-packages (from python-dateutil>=2.1->matplotlib->stable-baselines3) (1.15.0)\n",
            "Requirement already satisfied: yahoo_fin in /usr/local/lib/python3.7/dist-packages (0.8.8)\n",
            "Requirement already satisfied: feedparser in /usr/local/lib/python3.7/dist-packages (from yahoo_fin) (6.0.6)\n",
            "Requirement already satisfied: requests in /usr/local/lib/python3.7/dist-packages (from yahoo_fin) (2.23.0)\n",
            "Requirement already satisfied: requests-html in /usr/local/lib/python3.7/dist-packages (from yahoo_fin) (0.10.0)\n",
            "Requirement already satisfied: pandas in /usr/local/lib/python3.7/dist-packages (from yahoo_fin) (1.1.5)\n",
            "Requirement already satisfied: sgmllib3k in /usr/local/lib/python3.7/dist-packages (from feedparser->yahoo_fin) (1.0.0)\n",
            "Requirement already satisfied: urllib3!=1.25.0,!=1.25.1,<1.26,>=1.21.1 in /usr/local/lib/python3.7/dist-packages (from requests->yahoo_fin) (1.24.3)\n",
            "Requirement already satisfied: chardet<4,>=3.0.2 in /usr/local/lib/python3.7/dist-packages (from requests->yahoo_fin) (3.0.4)\n",
            "Requirement already satisfied: certifi>=2017.4.17 in /usr/local/lib/python3.7/dist-packages (from requests->yahoo_fin) (2021.5.30)\n",
            "Requirement already satisfied: idna<3,>=2.5 in /usr/local/lib/python3.7/dist-packages (from requests->yahoo_fin) (2.10)\n",
            "Requirement already satisfied: parse in /usr/local/lib/python3.7/dist-packages (from requests-html->yahoo_fin) (1.19.0)\n",
            "Requirement already satisfied: pyquery in /usr/local/lib/python3.7/dist-packages (from requests-html->yahoo_fin) (1.4.3)\n",
            "Requirement already satisfied: pyppeteer>=0.0.14 in /usr/local/lib/python3.7/dist-packages (from requests-html->yahoo_fin) (0.2.5)\n",
            "Requirement already satisfied: fake-useragent in /usr/local/lib/python3.7/dist-packages (from requests-html->yahoo_fin) (0.1.11)\n",
            "Requirement already satisfied: w3lib in /usr/local/lib/python3.7/dist-packages (from requests-html->yahoo_fin) (1.22.0)\n",
            "Requirement already satisfied: bs4 in /usr/local/lib/python3.7/dist-packages (from requests-html->yahoo_fin) (0.0.1)\n",
            "Requirement already satisfied: pytz>=2017.2 in /usr/local/lib/python3.7/dist-packages (from pandas->yahoo_fin) (2018.9)\n",
            "Requirement already satisfied: python-dateutil>=2.7.3 in /usr/local/lib/python3.7/dist-packages (from pandas->yahoo_fin) (2.8.1)\n",
            "Requirement already satisfied: numpy>=1.15.4 in /usr/local/lib/python3.7/dist-packages (from pandas->yahoo_fin) (1.19.5)\n",
            "Requirement already satisfied: lxml>=2.1 in /usr/local/lib/python3.7/dist-packages (from pyquery->requests-html->yahoo_fin) (4.2.6)\n",
            "Requirement already satisfied: cssselect>0.7.9 in /usr/local/lib/python3.7/dist-packages (from pyquery->requests-html->yahoo_fin) (1.1.0)\n",
            "Requirement already satisfied: websockets<9.0,>=8.1 in /usr/local/lib/python3.7/dist-packages (from pyppeteer>=0.0.14->requests-html->yahoo_fin) (8.1)\n",
            "Requirement already satisfied: appdirs<2.0.0,>=1.4.3 in /usr/local/lib/python3.7/dist-packages (from pyppeteer>=0.0.14->requests-html->yahoo_fin) (1.4.4)\n",
            "Requirement already satisfied: importlib-metadata<3.0.0,>=2.1.1; python_version < \"3.8\" in /usr/local/lib/python3.7/dist-packages (from pyppeteer>=0.0.14->requests-html->yahoo_fin) (2.1.1)\n",
            "Requirement already satisfied: pyee<9.0.0,>=8.1.0 in /usr/local/lib/python3.7/dist-packages (from pyppeteer>=0.0.14->requests-html->yahoo_fin) (8.1.0)\n",
            "Requirement already satisfied: tqdm<5.0.0,>=4.42.1 in /usr/local/lib/python3.7/dist-packages (from pyppeteer>=0.0.14->requests-html->yahoo_fin) (4.61.1)\n",
            "Requirement already satisfied: six>=1.4.1 in /usr/local/lib/python3.7/dist-packages (from w3lib->requests-html->yahoo_fin) (1.15.0)\n",
            "Requirement already satisfied: beautifulsoup4 in /usr/local/lib/python3.7/dist-packages (from bs4->requests-html->yahoo_fin) (4.6.3)\n",
            "Requirement already satisfied: zipp>=0.5 in /usr/local/lib/python3.7/dist-packages (from importlib-metadata<3.0.0,>=2.1.1; python_version < \"3.8\"->pyppeteer>=0.0.14->requests-html->yahoo_fin) (3.4.1)\n"
          ],
          "name": "stdout"
        }
      ]
    },
    {
      "cell_type": "code",
      "metadata": {
        "id": "JF4VUhd0a-KK"
      },
      "source": [
        "def ImportData(ticker,NoOfDays):\n",
        "# pip install yahoo_fin\n",
        "  from yahoo_fin import stock_info as si\n",
        "  from datetime import datetime, timedelta\n",
        "  d = datetime.today() - timedelta(days=NoOfDays)\n",
        "  # load it from yahoo_fin library\n",
        "  df = si.get_data(ticker,d,datetime.today())\n",
        "  df = df[df.volume.notnull()]\n",
        "  df = df[df.volume != 0]\n",
        "  print(df.head)\n",
        "  return df"
      ],
      "execution_count": null,
      "outputs": []
    },
    {
      "cell_type": "code",
      "metadata": {
        "id": "iBr2DzlFbJeA"
      },
      "source": [
        ""
      ],
      "execution_count": null,
      "outputs": []
    },
    {
      "cell_type": "code",
      "metadata": {
        "id": "ITn-tBj8a0hk"
      },
      "source": [
        "# Gym stuff\n",
        "import gym\n",
        "import gym_anytrading\n",
        "\n",
        "# Stable baselines - rl stuff\n",
        "from stable_baselines3.common.vec_env import DummyVecEnv\n",
        "from stable_baselines3 import A2C\n",
        "\n",
        "# Processing libraries\n",
        "import numpy as np\n",
        "import pandas as pd\n",
        "from matplotlib import pyplot as plt"
      ],
      "execution_count": null,
      "outputs": []
    },
    {
      "cell_type": "markdown",
      "metadata": {
        "id": "WTkxzzVta0hl"
      },
      "source": [
        "# 1. Bring in Marketwatch GME Data \n",
        "https://www.marketwatch.com/investing/stock/gme/download-data?startDate=11/1/2019&endDate=03/12/2021"
      ]
    },
    {
      "cell_type": "code",
      "metadata": {
        "colab": {
          "base_uri": "https://localhost:8080/",
          "height": 442
        },
        "id": "Gv7xU9iza0hl",
        "outputId": "40860f4d-9551-492c-b26c-5e37b632056b"
      },
      "source": [
        "df = ImportData(\"ICICIBANK.NS\",4000)\n",
        "\n",
        "# gapminder.columns = ['country','year','population',\n",
        "#                     'continent','life_exp','gdp_per_cap']\n",
        "df.columns=['Open','High','Low','Close','adjclose','Volume','ticker']\n",
        "if \"date\" not in df.columns:\n",
        "    df[\"date\"] = df.index\n",
        "df.head()"
      ],
      "execution_count": null,
      "outputs": [
        {
          "output_type": "stream",
          "text": [
            "<bound method NDFrame.head of                   open        high  ...      volume        ticker\n",
            "2010-07-05  152.363632  153.763641  ...   8028047.0  ICICIBANK.NS\n",
            "2010-07-06  152.636368  156.672729  ...  12755105.0  ICICIBANK.NS\n",
            "2010-07-07  155.818176  156.018188  ...  11463655.0  ICICIBANK.NS\n",
            "2010-07-08  156.000000  157.418182  ...   9200433.0  ICICIBANK.NS\n",
            "2010-07-09  157.545456  159.818176  ...  17697773.0  ICICIBANK.NS\n",
            "...                ...         ...  ...         ...           ...\n",
            "2021-06-10  635.450012  642.400024  ...  10712418.0  ICICIBANK.NS\n",
            "2021-06-11  644.000000  644.549988  ...   9015059.0  ICICIBANK.NS\n",
            "2021-06-14  635.700012  636.099976  ...  10170497.0  ICICIBANK.NS\n",
            "2021-06-15  636.349976  646.200012  ...  11039987.0  ICICIBANK.NS\n",
            "2021-06-16  644.900024  649.200012  ...   8599758.0  ICICIBANK.NS\n",
            "\n",
            "[2697 rows x 7 columns]>\n"
          ],
          "name": "stdout"
        },
        {
          "output_type": "execute_result",
          "data": {
            "text/html": [
              "<div>\n",
              "<style scoped>\n",
              "    .dataframe tbody tr th:only-of-type {\n",
              "        vertical-align: middle;\n",
              "    }\n",
              "\n",
              "    .dataframe tbody tr th {\n",
              "        vertical-align: top;\n",
              "    }\n",
              "\n",
              "    .dataframe thead th {\n",
              "        text-align: right;\n",
              "    }\n",
              "</style>\n",
              "<table border=\"1\" class=\"dataframe\">\n",
              "  <thead>\n",
              "    <tr style=\"text-align: right;\">\n",
              "      <th></th>\n",
              "      <th>Open</th>\n",
              "      <th>High</th>\n",
              "      <th>Low</th>\n",
              "      <th>Close</th>\n",
              "      <th>adjclose</th>\n",
              "      <th>Volume</th>\n",
              "      <th>ticker</th>\n",
              "      <th>date</th>\n",
              "    </tr>\n",
              "  </thead>\n",
              "  <tbody>\n",
              "    <tr>\n",
              "      <th>2010-07-05</th>\n",
              "      <td>152.363632</td>\n",
              "      <td>153.763641</td>\n",
              "      <td>151.636368</td>\n",
              "      <td>152.836365</td>\n",
              "      <td>131.895248</td>\n",
              "      <td>8028047.0</td>\n",
              "      <td>ICICIBANK.NS</td>\n",
              "      <td>2010-07-05</td>\n",
              "    </tr>\n",
              "    <tr>\n",
              "      <th>2010-07-06</th>\n",
              "      <td>152.636368</td>\n",
              "      <td>156.672729</td>\n",
              "      <td>152.445450</td>\n",
              "      <td>156.145447</td>\n",
              "      <td>134.750931</td>\n",
              "      <td>12755105.0</td>\n",
              "      <td>ICICIBANK.NS</td>\n",
              "      <td>2010-07-06</td>\n",
              "    </tr>\n",
              "    <tr>\n",
              "      <th>2010-07-07</th>\n",
              "      <td>155.818176</td>\n",
              "      <td>156.018188</td>\n",
              "      <td>153.500000</td>\n",
              "      <td>153.854538</td>\n",
              "      <td>132.773895</td>\n",
              "      <td>11463655.0</td>\n",
              "      <td>ICICIBANK.NS</td>\n",
              "      <td>2010-07-07</td>\n",
              "    </tr>\n",
              "    <tr>\n",
              "      <th>2010-07-08</th>\n",
              "      <td>156.000000</td>\n",
              "      <td>157.418182</td>\n",
              "      <td>155.463638</td>\n",
              "      <td>156.781815</td>\n",
              "      <td>135.300125</td>\n",
              "      <td>9200433.0</td>\n",
              "      <td>ICICIBANK.NS</td>\n",
              "      <td>2010-07-08</td>\n",
              "    </tr>\n",
              "    <tr>\n",
              "      <th>2010-07-09</th>\n",
              "      <td>157.545456</td>\n",
              "      <td>159.818176</td>\n",
              "      <td>157.454544</td>\n",
              "      <td>159.254547</td>\n",
              "      <td>137.434021</td>\n",
              "      <td>17697773.0</td>\n",
              "      <td>ICICIBANK.NS</td>\n",
              "      <td>2010-07-09</td>\n",
              "    </tr>\n",
              "  </tbody>\n",
              "</table>\n",
              "</div>"
            ],
            "text/plain": [
              "                  Open        High  ...        ticker       date\n",
              "2010-07-05  152.363632  153.763641  ...  ICICIBANK.NS 2010-07-05\n",
              "2010-07-06  152.636368  156.672729  ...  ICICIBANK.NS 2010-07-06\n",
              "2010-07-07  155.818176  156.018188  ...  ICICIBANK.NS 2010-07-07\n",
              "2010-07-08  156.000000  157.418182  ...  ICICIBANK.NS 2010-07-08\n",
              "2010-07-09  157.545456  159.818176  ...  ICICIBANK.NS 2010-07-09\n",
              "\n",
              "[5 rows x 8 columns]"
            ]
          },
          "metadata": {
            "tags": []
          },
          "execution_count": 64
        }
      ]
    },
    {
      "cell_type": "code",
      "metadata": {
        "colab": {
          "base_uri": "https://localhost:8080/",
          "height": 204
        },
        "id": "HtMj7IKMa0hl",
        "outputId": "2f8aef7d-a82c-4e5c-f10a-de3a1afc5c90"
      },
      "source": [
        "if \"date\" not in df.columns:\n",
        "    df[\"date\"] = df.index\n",
        "df.head()"
      ],
      "execution_count": null,
      "outputs": [
        {
          "output_type": "execute_result",
          "data": {
            "text/html": [
              "<div>\n",
              "<style scoped>\n",
              "    .dataframe tbody tr th:only-of-type {\n",
              "        vertical-align: middle;\n",
              "    }\n",
              "\n",
              "    .dataframe tbody tr th {\n",
              "        vertical-align: top;\n",
              "    }\n",
              "\n",
              "    .dataframe thead th {\n",
              "        text-align: right;\n",
              "    }\n",
              "</style>\n",
              "<table border=\"1\" class=\"dataframe\">\n",
              "  <thead>\n",
              "    <tr style=\"text-align: right;\">\n",
              "      <th></th>\n",
              "      <th>Open</th>\n",
              "      <th>High</th>\n",
              "      <th>Low</th>\n",
              "      <th>Close</th>\n",
              "      <th>adjclose</th>\n",
              "      <th>Volume</th>\n",
              "      <th>ticker</th>\n",
              "      <th>date</th>\n",
              "    </tr>\n",
              "  </thead>\n",
              "  <tbody>\n",
              "    <tr>\n",
              "      <th>2010-07-05</th>\n",
              "      <td>152.363632</td>\n",
              "      <td>153.763641</td>\n",
              "      <td>151.636368</td>\n",
              "      <td>152.836365</td>\n",
              "      <td>131.895248</td>\n",
              "      <td>8028047.0</td>\n",
              "      <td>ICICIBANK.NS</td>\n",
              "      <td>2010-07-05</td>\n",
              "    </tr>\n",
              "    <tr>\n",
              "      <th>2010-07-06</th>\n",
              "      <td>152.636368</td>\n",
              "      <td>156.672729</td>\n",
              "      <td>152.445450</td>\n",
              "      <td>156.145447</td>\n",
              "      <td>134.750931</td>\n",
              "      <td>12755105.0</td>\n",
              "      <td>ICICIBANK.NS</td>\n",
              "      <td>2010-07-06</td>\n",
              "    </tr>\n",
              "    <tr>\n",
              "      <th>2010-07-07</th>\n",
              "      <td>155.818176</td>\n",
              "      <td>156.018188</td>\n",
              "      <td>153.500000</td>\n",
              "      <td>153.854538</td>\n",
              "      <td>132.773895</td>\n",
              "      <td>11463655.0</td>\n",
              "      <td>ICICIBANK.NS</td>\n",
              "      <td>2010-07-07</td>\n",
              "    </tr>\n",
              "    <tr>\n",
              "      <th>2010-07-08</th>\n",
              "      <td>156.000000</td>\n",
              "      <td>157.418182</td>\n",
              "      <td>155.463638</td>\n",
              "      <td>156.781815</td>\n",
              "      <td>135.300125</td>\n",
              "      <td>9200433.0</td>\n",
              "      <td>ICICIBANK.NS</td>\n",
              "      <td>2010-07-08</td>\n",
              "    </tr>\n",
              "    <tr>\n",
              "      <th>2010-07-09</th>\n",
              "      <td>157.545456</td>\n",
              "      <td>159.818176</td>\n",
              "      <td>157.454544</td>\n",
              "      <td>159.254547</td>\n",
              "      <td>137.434021</td>\n",
              "      <td>17697773.0</td>\n",
              "      <td>ICICIBANK.NS</td>\n",
              "      <td>2010-07-09</td>\n",
              "    </tr>\n",
              "  </tbody>\n",
              "</table>\n",
              "</div>"
            ],
            "text/plain": [
              "                  Open        High  ...        ticker       date\n",
              "2010-07-05  152.363632  153.763641  ...  ICICIBANK.NS 2010-07-05\n",
              "2010-07-06  152.636368  156.672729  ...  ICICIBANK.NS 2010-07-06\n",
              "2010-07-07  155.818176  156.018188  ...  ICICIBANK.NS 2010-07-07\n",
              "2010-07-08  156.000000  157.418182  ...  ICICIBANK.NS 2010-07-08\n",
              "2010-07-09  157.545456  159.818176  ...  ICICIBANK.NS 2010-07-09\n",
              "\n",
              "[5 rows x 8 columns]"
            ]
          },
          "metadata": {
            "tags": []
          },
          "execution_count": 65
        }
      ]
    },
    {
      "cell_type": "code",
      "metadata": {
        "colab": {
          "base_uri": "https://localhost:8080/"
        },
        "id": "eDgaCtvMa0ho",
        "outputId": "bf2e7680-488d-43b7-b781-3a964d5c4fe3"
      },
      "source": [
        "df['date'] = pd.to_datetime(df['date'])\n",
        "df.dtypes"
      ],
      "execution_count": null,
      "outputs": [
        {
          "output_type": "execute_result",
          "data": {
            "text/plain": [
              "Open               float64\n",
              "High               float64\n",
              "Low                float64\n",
              "Close              float64\n",
              "adjclose           float64\n",
              "Volume             float64\n",
              "ticker              object\n",
              "date        datetime64[ns]\n",
              "dtype: object"
            ]
          },
          "metadata": {
            "tags": []
          },
          "execution_count": 66
        }
      ]
    },
    {
      "cell_type": "code",
      "metadata": {
        "colab": {
          "base_uri": "https://localhost:8080/",
          "height": 204
        },
        "id": "_XowCX98a0ho",
        "outputId": "39149511-4f4f-4a1a-cec1-683bc9defdc8"
      },
      "source": [
        "df.sort_values('date', ascending=True, inplace=True)\n",
        "df.head()"
      ],
      "execution_count": null,
      "outputs": [
        {
          "output_type": "execute_result",
          "data": {
            "text/html": [
              "<div>\n",
              "<style scoped>\n",
              "    .dataframe tbody tr th:only-of-type {\n",
              "        vertical-align: middle;\n",
              "    }\n",
              "\n",
              "    .dataframe tbody tr th {\n",
              "        vertical-align: top;\n",
              "    }\n",
              "\n",
              "    .dataframe thead th {\n",
              "        text-align: right;\n",
              "    }\n",
              "</style>\n",
              "<table border=\"1\" class=\"dataframe\">\n",
              "  <thead>\n",
              "    <tr style=\"text-align: right;\">\n",
              "      <th></th>\n",
              "      <th>Open</th>\n",
              "      <th>High</th>\n",
              "      <th>Low</th>\n",
              "      <th>Close</th>\n",
              "      <th>adjclose</th>\n",
              "      <th>Volume</th>\n",
              "      <th>ticker</th>\n",
              "      <th>date</th>\n",
              "    </tr>\n",
              "  </thead>\n",
              "  <tbody>\n",
              "    <tr>\n",
              "      <th>2010-07-05</th>\n",
              "      <td>152.363632</td>\n",
              "      <td>153.763641</td>\n",
              "      <td>151.636368</td>\n",
              "      <td>152.836365</td>\n",
              "      <td>131.895248</td>\n",
              "      <td>8028047.0</td>\n",
              "      <td>ICICIBANK.NS</td>\n",
              "      <td>2010-07-05</td>\n",
              "    </tr>\n",
              "    <tr>\n",
              "      <th>2010-07-06</th>\n",
              "      <td>152.636368</td>\n",
              "      <td>156.672729</td>\n",
              "      <td>152.445450</td>\n",
              "      <td>156.145447</td>\n",
              "      <td>134.750931</td>\n",
              "      <td>12755105.0</td>\n",
              "      <td>ICICIBANK.NS</td>\n",
              "      <td>2010-07-06</td>\n",
              "    </tr>\n",
              "    <tr>\n",
              "      <th>2010-07-07</th>\n",
              "      <td>155.818176</td>\n",
              "      <td>156.018188</td>\n",
              "      <td>153.500000</td>\n",
              "      <td>153.854538</td>\n",
              "      <td>132.773895</td>\n",
              "      <td>11463655.0</td>\n",
              "      <td>ICICIBANK.NS</td>\n",
              "      <td>2010-07-07</td>\n",
              "    </tr>\n",
              "    <tr>\n",
              "      <th>2010-07-08</th>\n",
              "      <td>156.000000</td>\n",
              "      <td>157.418182</td>\n",
              "      <td>155.463638</td>\n",
              "      <td>156.781815</td>\n",
              "      <td>135.300125</td>\n",
              "      <td>9200433.0</td>\n",
              "      <td>ICICIBANK.NS</td>\n",
              "      <td>2010-07-08</td>\n",
              "    </tr>\n",
              "    <tr>\n",
              "      <th>2010-07-09</th>\n",
              "      <td>157.545456</td>\n",
              "      <td>159.818176</td>\n",
              "      <td>157.454544</td>\n",
              "      <td>159.254547</td>\n",
              "      <td>137.434021</td>\n",
              "      <td>17697773.0</td>\n",
              "      <td>ICICIBANK.NS</td>\n",
              "      <td>2010-07-09</td>\n",
              "    </tr>\n",
              "  </tbody>\n",
              "</table>\n",
              "</div>"
            ],
            "text/plain": [
              "                  Open        High  ...        ticker       date\n",
              "2010-07-05  152.363632  153.763641  ...  ICICIBANK.NS 2010-07-05\n",
              "2010-07-06  152.636368  156.672729  ...  ICICIBANK.NS 2010-07-06\n",
              "2010-07-07  155.818176  156.018188  ...  ICICIBANK.NS 2010-07-07\n",
              "2010-07-08  156.000000  157.418182  ...  ICICIBANK.NS 2010-07-08\n",
              "2010-07-09  157.545456  159.818176  ...  ICICIBANK.NS 2010-07-09\n",
              "\n",
              "[5 rows x 8 columns]"
            ]
          },
          "metadata": {
            "tags": []
          },
          "execution_count": 67
        }
      ]
    },
    {
      "cell_type": "code",
      "metadata": {
        "id": "D-f42L6la0hp"
      },
      "source": [
        "env = gym.make('stocks-v0', df=df, frame_bound=(5,250), window_size=5)"
      ],
      "execution_count": null,
      "outputs": []
    },
    {
      "cell_type": "code",
      "metadata": {
        "scrolled": true,
        "colab": {
          "base_uri": "https://localhost:8080/"
        },
        "id": "XCJu2jdua0hp",
        "outputId": "e4d24db9-9391-4b61-c2fe-c4b0c3f162fa"
      },
      "source": [
        "env.signal_features\n",
        "print(len(env.signal_features))"
      ],
      "execution_count": null,
      "outputs": [
        {
          "output_type": "stream",
          "text": [
            "250\n"
          ],
          "name": "stdout"
        }
      ]
    },
    {
      "cell_type": "markdown",
      "metadata": {
        "id": "Xkk-f9VSa0hq"
      },
      "source": [
        "# 2. Build Environment"
      ]
    },
    {
      "cell_type": "code",
      "metadata": {
        "colab": {
          "base_uri": "https://localhost:8080/"
        },
        "id": "PbS-l-GXa0hq",
        "outputId": "09755395-ccf4-4a32-9140-f5643b7dab43"
      },
      "source": [
        "env.action_space"
      ],
      "execution_count": null,
      "outputs": [
        {
          "output_type": "execute_result",
          "data": {
            "text/plain": [
              "Discrete(2)"
            ]
          },
          "metadata": {
            "tags": []
          },
          "execution_count": 70
        }
      ]
    },
    {
      "cell_type": "code",
      "metadata": {
        "colab": {
          "base_uri": "https://localhost:8080/",
          "height": 434
        },
        "id": "OPSeJShGa0hq",
        "outputId": "471e31aa-3c2f-446e-c5ac-af1030f33e4c"
      },
      "source": [
        "state = env.reset()\n",
        "while True: \n",
        "    action = env.action_space.sample()\n",
        "    n_state, reward, done, info = env.step(action)\n",
        "    if done: \n",
        "        print(\"info\", info)\n",
        "        break\n",
        "        \n",
        "plt.figure(figsize=(15,6))\n",
        "plt.cla()\n",
        "env.render_all()\n",
        "plt.show()"
      ],
      "execution_count": null,
      "outputs": [
        {
          "output_type": "stream",
          "text": [
            "info {'total_reward': -9.954513549804688, 'total_profit': 0.3844132964144425, 'position': 1}\n"
          ],
          "name": "stdout"
        },
        {
          "output_type": "display_data",
          "data": {
            "image/png": "[encoded data removed]",
            "text/plain": [
              "<Figure size 1080x432 with 1 Axes>"
            ]
          },
          "metadata": {
            "tags": [],
            "needs_background": "light"
          }
        }
      ]
    },
    {
      "cell_type": "markdown",
      "metadata": {
        "id": "VPn9gtWIa0hr"
      },
      "source": [
        "# 2.1 Add Custom Indicators"
      ]
    },
    {
      "cell_type": "markdown",
      "metadata": {
        "id": "UGl7bC6Na0hr"
      },
      "source": [
        "## 2.1.1. Install and Import New Dependencies"
      ]
    },
    {
      "cell_type": "code",
      "metadata": {
        "collapsed": true,
        "colab": {
          "base_uri": "https://localhost:8080/"
        },
        "id": "MEMx4Fxwa0hr",
        "outputId": "2774e457-0e43-43cf-ce46-be770bb7cadc"
      },
      "source": [
        "!pip install finta"
      ],
      "execution_count": null,
      "outputs": [
        {
          "output_type": "stream",
          "text": [
            "Requirement already satisfied: finta in /usr/local/lib/python3.7/dist-packages (1.3)\n",
            "Requirement already satisfied: numpy in /usr/local/lib/python3.7/dist-packages (from finta) (1.19.5)\n",
            "Requirement already satisfied: pandas in /usr/local/lib/python3.7/dist-packages (from finta) (1.1.5)\n",
            "Requirement already satisfied: pytz>=2017.2 in /usr/local/lib/python3.7/dist-packages (from pandas->finta) (2018.9)\n",
            "Requirement already satisfied: python-dateutil>=2.7.3 in /usr/local/lib/python3.7/dist-packages (from pandas->finta) (2.8.1)\n",
            "Requirement already satisfied: six>=1.5 in /usr/local/lib/python3.7/dist-packages (from python-dateutil>=2.7.3->pandas->finta) (1.15.0)\n"
          ],
          "name": "stdout"
        }
      ]
    },
    {
      "cell_type": "code",
      "metadata": {
        "id": "vCZtPeRTa0hr"
      },
      "source": [
        "from gym_anytrading.envs import StocksEnv\n",
        "from finta import TA"
      ],
      "execution_count": null,
      "outputs": []
    },
    {
      "cell_type": "markdown",
      "metadata": {
        "id": "upCD8esja0hs"
      },
      "source": [
        "## 2.1.2. Fix Volume Column"
      ]
    },
    {
      "cell_type": "code",
      "metadata": {
        "id": "VBFopaY3a0hs"
      },
      "source": [
        "#df['Volume'] = df['Volume'].apply(lambda x: float(x.replace(\",\", \"\")))"
      ],
      "execution_count": null,
      "outputs": []
    },
    {
      "cell_type": "code",
      "metadata": {
        "colab": {
          "base_uri": "https://localhost:8080/"
        },
        "id": "AD-MOaYDa0hs",
        "outputId": "d2f6aed5-4592-4730-d046-dab98c8595bd"
      },
      "source": [
        "df.dtypes"
      ],
      "execution_count": null,
      "outputs": [
        {
          "output_type": "execute_result",
          "data": {
            "text/plain": [
              "Open               float64\n",
              "High               float64\n",
              "Low                float64\n",
              "Close              float64\n",
              "adjclose           float64\n",
              "Volume             float64\n",
              "ticker              object\n",
              "date        datetime64[ns]\n",
              "dtype: object"
            ]
          },
          "metadata": {
            "tags": []
          },
          "execution_count": 75
        }
      ]
    },
    {
      "cell_type": "markdown",
      "metadata": {
        "id": "DM6T99W2a0hs"
      },
      "source": [
        "## 2.1.3. Calculate SMA, RSI and OBV"
      ]
    },
    {
      "cell_type": "code",
      "metadata": {
        "id": "w45qZtQNa0hs"
      },
      "source": [
        "df['SMA'] = TA.SMA(df, 9)\n",
        "df['RSI'] = TA.RSI(df)\n",
        "df['OBV'] = TA.OBV(df)\n",
        "df['ROC']=  TA.ROC(df)\n",
        "df.fillna(0, inplace=True)"
      ],
      "execution_count": null,
      "outputs": []
    },
    {
      "cell_type": "code",
      "metadata": {
        "colab": {
          "base_uri": "https://localhost:8080/",
          "height": 769
        },
        "id": "uPFZLY0ea0hs",
        "outputId": "199964ce-c0eb-4980-bd32-e7bb83bc396d"
      },
      "source": [
        "df.head(15)"
      ],
      "execution_count": null,
      "outputs": [
        {
          "output_type": "execute_result",
          "data": {
            "text/html": [
              "<div>\n",
              "<style scoped>\n",
              "    .dataframe tbody tr th:only-of-type {\n",
              "        vertical-align: middle;\n",
              "    }\n",
              "\n",
              "    .dataframe tbody tr th {\n",
              "        vertical-align: top;\n",
              "    }\n",
              "\n",
              "    .dataframe thead th {\n",
              "        text-align: right;\n",
              "    }\n",
              "</style>\n",
              "<table border=\"1\" class=\"dataframe\">\n",
              "  <thead>\n",
              "    <tr style=\"text-align: right;\">\n",
              "      <th></th>\n",
              "      <th>Open</th>\n",
              "      <th>High</th>\n",
              "      <th>Low</th>\n",
              "      <th>Close</th>\n",
              "      <th>adjclose</th>\n",
              "      <th>Volume</th>\n",
              "      <th>ticker</th>\n",
              "      <th>date</th>\n",
              "      <th>SMA</th>\n",
              "      <th>RSI</th>\n",
              "      <th>OBV</th>\n",
              "      <th>ROC</th>\n",
              "    </tr>\n",
              "  </thead>\n",
              "  <tbody>\n",
              "    <tr>\n",
              "      <th>2010-07-05</th>\n",
              "      <td>152.363632</td>\n",
              "      <td>153.763641</td>\n",
              "      <td>151.636368</td>\n",
              "      <td>152.836365</td>\n",
              "      <td>131.895248</td>\n",
              "      <td>8028047.0</td>\n",
              "      <td>ICICIBANK.NS</td>\n",
              "      <td>2010-07-05</td>\n",
              "      <td>0.000000</td>\n",
              "      <td>0.000000</td>\n",
              "      <td>0.0</td>\n",
              "      <td>0.000000</td>\n",
              "    </tr>\n",
              "    <tr>\n",
              "      <th>2010-07-06</th>\n",
              "      <td>152.636368</td>\n",
              "      <td>156.672729</td>\n",
              "      <td>152.445450</td>\n",
              "      <td>156.145447</td>\n",
              "      <td>134.750931</td>\n",
              "      <td>12755105.0</td>\n",
              "      <td>ICICIBANK.NS</td>\n",
              "      <td>2010-07-06</td>\n",
              "      <td>0.000000</td>\n",
              "      <td>100.000000</td>\n",
              "      <td>12755105.0</td>\n",
              "      <td>0.000000</td>\n",
              "    </tr>\n",
              "    <tr>\n",
              "      <th>2010-07-07</th>\n",
              "      <td>155.818176</td>\n",
              "      <td>156.018188</td>\n",
              "      <td>153.500000</td>\n",
              "      <td>153.854538</td>\n",
              "      <td>132.773895</td>\n",
              "      <td>11463655.0</td>\n",
              "      <td>ICICIBANK.NS</td>\n",
              "      <td>2010-07-07</td>\n",
              "      <td>0.000000</td>\n",
              "      <td>57.288073</td>\n",
              "      <td>1291450.0</td>\n",
              "      <td>0.000000</td>\n",
              "    </tr>\n",
              "    <tr>\n",
              "      <th>2010-07-08</th>\n",
              "      <td>156.000000</td>\n",
              "      <td>157.418182</td>\n",
              "      <td>155.463638</td>\n",
              "      <td>156.781815</td>\n",
              "      <td>135.300125</td>\n",
              "      <td>9200433.0</td>\n",
              "      <td>ICICIBANK.NS</td>\n",
              "      <td>2010-07-08</td>\n",
              "      <td>0.000000</td>\n",
              "      <td>73.099021</td>\n",
              "      <td>10491883.0</td>\n",
              "      <td>0.000000</td>\n",
              "    </tr>\n",
              "    <tr>\n",
              "      <th>2010-07-09</th>\n",
              "      <td>157.545456</td>\n",
              "      <td>159.818176</td>\n",
              "      <td>157.454544</td>\n",
              "      <td>159.254547</td>\n",
              "      <td>137.434021</td>\n",
              "      <td>17697773.0</td>\n",
              "      <td>ICICIBANK.NS</td>\n",
              "      <td>2010-07-09</td>\n",
              "      <td>0.000000</td>\n",
              "      <td>79.875824</td>\n",
              "      <td>28189656.0</td>\n",
              "      <td>0.000000</td>\n",
              "    </tr>\n",
              "    <tr>\n",
              "      <th>2010-07-12</th>\n",
              "      <td>160.890915</td>\n",
              "      <td>162.727264</td>\n",
              "      <td>159.281815</td>\n",
              "      <td>162.445450</td>\n",
              "      <td>140.187729</td>\n",
              "      <td>22222106.0</td>\n",
              "      <td>ICICIBANK.NS</td>\n",
              "      <td>2010-07-12</td>\n",
              "      <td>0.000000</td>\n",
              "      <td>85.094181</td>\n",
              "      <td>50411762.0</td>\n",
              "      <td>0.000000</td>\n",
              "    </tr>\n",
              "    <tr>\n",
              "      <th>2010-07-13</th>\n",
              "      <td>156.409088</td>\n",
              "      <td>163.818176</td>\n",
              "      <td>156.409088</td>\n",
              "      <td>163.536362</td>\n",
              "      <td>141.129150</td>\n",
              "      <td>13894930.0</td>\n",
              "      <td>ICICIBANK.NS</td>\n",
              "      <td>2010-07-13</td>\n",
              "      <td>0.000000</td>\n",
              "      <td>86.393246</td>\n",
              "      <td>64306692.0</td>\n",
              "      <td>0.000000</td>\n",
              "    </tr>\n",
              "    <tr>\n",
              "      <th>2010-07-14</th>\n",
              "      <td>164.181824</td>\n",
              "      <td>166.263641</td>\n",
              "      <td>161.118179</td>\n",
              "      <td>162.045456</td>\n",
              "      <td>139.842545</td>\n",
              "      <td>14287663.0</td>\n",
              "      <td>ICICIBANK.NS</td>\n",
              "      <td>2010-07-14</td>\n",
              "      <td>0.000000</td>\n",
              "      <td>76.571524</td>\n",
              "      <td>50019029.0</td>\n",
              "      <td>0.000000</td>\n",
              "    </tr>\n",
              "    <tr>\n",
              "      <th>2010-07-15</th>\n",
              "      <td>161.645447</td>\n",
              "      <td>163.790909</td>\n",
              "      <td>159.690903</td>\n",
              "      <td>160.336365</td>\n",
              "      <td>138.367630</td>\n",
              "      <td>15469250.0</td>\n",
              "      <td>ICICIBANK.NS</td>\n",
              "      <td>2010-07-15</td>\n",
              "      <td>158.581816</td>\n",
              "      <td>67.147481</td>\n",
              "      <td>34549779.0</td>\n",
              "      <td>0.000000</td>\n",
              "    </tr>\n",
              "    <tr>\n",
              "      <th>2010-07-16</th>\n",
              "      <td>161.090912</td>\n",
              "      <td>164.545456</td>\n",
              "      <td>161.090912</td>\n",
              "      <td>164.072723</td>\n",
              "      <td>141.592026</td>\n",
              "      <td>16519811.0</td>\n",
              "      <td>ICICIBANK.NS</td>\n",
              "      <td>2010-07-16</td>\n",
              "      <td>159.830300</td>\n",
              "      <td>74.528186</td>\n",
              "      <td>51069590.0</td>\n",
              "      <td>0.000000</td>\n",
              "    </tr>\n",
              "    <tr>\n",
              "      <th>2010-07-19</th>\n",
              "      <td>162.745453</td>\n",
              "      <td>164.427277</td>\n",
              "      <td>161.272720</td>\n",
              "      <td>163.645447</td>\n",
              "      <td>141.223297</td>\n",
              "      <td>17190327.0</td>\n",
              "      <td>ICICIBANK.NS</td>\n",
              "      <td>2010-07-19</td>\n",
              "      <td>160.663634</td>\n",
              "      <td>72.521672</td>\n",
              "      <td>33879263.0</td>\n",
              "      <td>0.000000</td>\n",
              "    </tr>\n",
              "    <tr>\n",
              "      <th>2010-07-20</th>\n",
              "      <td>163.645447</td>\n",
              "      <td>164.745453</td>\n",
              "      <td>160.545456</td>\n",
              "      <td>161.245453</td>\n",
              "      <td>139.152145</td>\n",
              "      <td>8007180.0</td>\n",
              "      <td>ICICIBANK.NS</td>\n",
              "      <td>2010-07-20</td>\n",
              "      <td>161.484846</td>\n",
              "      <td>62.365062</td>\n",
              "      <td>25872083.0</td>\n",
              "      <td>0.000000</td>\n",
              "    </tr>\n",
              "    <tr>\n",
              "      <th>2010-07-21</th>\n",
              "      <td>162.545456</td>\n",
              "      <td>164.527267</td>\n",
              "      <td>161.936356</td>\n",
              "      <td>164.109085</td>\n",
              "      <td>141.623413</td>\n",
              "      <td>16133474.0</td>\n",
              "      <td>ICICIBANK.NS</td>\n",
              "      <td>2010-07-21</td>\n",
              "      <td>162.298987</td>\n",
              "      <td>68.104867</td>\n",
              "      <td>42005557.0</td>\n",
              "      <td>7.375679</td>\n",
              "    </tr>\n",
              "    <tr>\n",
              "      <th>2010-07-22</th>\n",
              "      <td>163.454544</td>\n",
              "      <td>165.454544</td>\n",
              "      <td>161.127274</td>\n",
              "      <td>165.218185</td>\n",
              "      <td>142.580551</td>\n",
              "      <td>15511622.0</td>\n",
              "      <td>ICICIBANK.NS</td>\n",
              "      <td>2010-07-22</td>\n",
              "      <td>162.961614</td>\n",
              "      <td>70.012458</td>\n",
              "      <td>57517179.0</td>\n",
              "      <td>5.810441</td>\n",
              "    </tr>\n",
              "    <tr>\n",
              "      <th>2010-07-23</th>\n",
              "      <td>166.363632</td>\n",
              "      <td>167.418182</td>\n",
              "      <td>164.618179</td>\n",
              "      <td>165.972733</td>\n",
              "      <td>143.231705</td>\n",
              "      <td>26262956.0</td>\n",
              "      <td>ICICIBANK.NS</td>\n",
              "      <td>2010-07-23</td>\n",
              "      <td>163.353534</td>\n",
              "      <td>71.271315</td>\n",
              "      <td>83780135.0</td>\n",
              "      <td>7.876397</td>\n",
              "    </tr>\n",
              "  </tbody>\n",
              "</table>\n",
              "</div>"
            ],
            "text/plain": [
              "                  Open        High  ...         OBV       ROC\n",
              "2010-07-05  152.363632  153.763641  ...         0.0  0.000000\n",
              "2010-07-06  152.636368  156.672729  ...  12755105.0  0.000000\n",
              "2010-07-07  155.818176  156.018188  ...   1291450.0  0.000000\n",
              "2010-07-08  156.000000  157.418182  ...  10491883.0  0.000000\n",
              "2010-07-09  157.545456  159.818176  ...  28189656.0  0.000000\n",
              "2010-07-12  160.890915  162.727264  ...  50411762.0  0.000000\n",
              "2010-07-13  156.409088  163.818176  ...  64306692.0  0.000000\n",
              "2010-07-14  164.181824  166.263641  ...  50019029.0  0.000000\n",
              "2010-07-15  161.645447  163.790909  ...  34549779.0  0.000000\n",
              "2010-07-16  161.090912  164.545456  ...  51069590.0  0.000000\n",
              "2010-07-19  162.745453  164.427277  ...  33879263.0  0.000000\n",
              "2010-07-20  163.645447  164.745453  ...  25872083.0  0.000000\n",
              "2010-07-21  162.545456  164.527267  ...  42005557.0  7.375679\n",
              "2010-07-22  163.454544  165.454544  ...  57517179.0  5.810441\n",
              "2010-07-23  166.363632  167.418182  ...  83780135.0  7.876397\n",
              "\n",
              "[15 rows x 12 columns]"
            ]
          },
          "metadata": {
            "tags": []
          },
          "execution_count": 77
        }
      ]
    },
    {
      "cell_type": "markdown",
      "metadata": {
        "id": "oNZWfSfGa0ht"
      },
      "source": [
        "## 2.1.4. Create New Environments"
      ]
    },
    {
      "cell_type": "code",
      "metadata": {
        "id": "rKfBUdzCa0ht"
      },
      "source": [
        "def add_signals(env):\n",
        "    start = env.frame_bound[0] - env.window_size\n",
        "    end = env.frame_bound[1]\n",
        "    prices = env.df.loc[:, 'Close'].to_numpy()[start:end]\n",
        "    #signal_features = env.df.loc[:, ['Close', 'Volume','SMA', 'RSI', 'OBV']].to_numpy()[start:end]\n",
        "    signal_features = env.df.loc[:, ['Close', 'ROC']].to_numpy()[start:end]\n",
        "    return prices, signal_features"
      ],
      "execution_count": null,
      "outputs": []
    },
    {
      "cell_type": "code",
      "metadata": {
        "id": "qS8JXovT_Lbo"
      },
      "source": [
        ""
      ],
      "execution_count": null,
      "outputs": []
    },
    {
      "cell_type": "code",
      "metadata": {
        "colab": {
          "base_uri": "https://localhost:8080/",
          "height": 297
        },
        "id": "Sct9EOCRfeL-",
        "outputId": "d074de49-b25a-497a-c635-748f970e1c7c"
      },
      "source": [
        "df.describe()"
      ],
      "execution_count": null,
      "outputs": [
        {
          "output_type": "execute_result",
          "data": {
            "text/html": [
              "<div>\n",
              "<style scoped>\n",
              "    .dataframe tbody tr th:only-of-type {\n",
              "        vertical-align: middle;\n",
              "    }\n",
              "\n",
              "    .dataframe tbody tr th {\n",
              "        vertical-align: top;\n",
              "    }\n",
              "\n",
              "    .dataframe thead th {\n",
              "        text-align: right;\n",
              "    }\n",
              "</style>\n",
              "<table border=\"1\" class=\"dataframe\">\n",
              "  <thead>\n",
              "    <tr style=\"text-align: right;\">\n",
              "      <th></th>\n",
              "      <th>Open</th>\n",
              "      <th>High</th>\n",
              "      <th>Low</th>\n",
              "      <th>Close</th>\n",
              "      <th>adjclose</th>\n",
              "      <th>Volume</th>\n",
              "      <th>SMA</th>\n",
              "      <th>RSI</th>\n",
              "      <th>OBV</th>\n",
              "      <th>ROC</th>\n",
              "    </tr>\n",
              "  </thead>\n",
              "  <tbody>\n",
              "    <tr>\n",
              "      <th>count</th>\n",
              "      <td>2697.000000</td>\n",
              "      <td>2697.000000</td>\n",
              "      <td>2697.000000</td>\n",
              "      <td>2697.000000</td>\n",
              "      <td>2697.000000</td>\n",
              "      <td>2.697000e+03</td>\n",
              "      <td>2697.000000</td>\n",
              "      <td>2697.000000</td>\n",
              "      <td>2.697000e+03</td>\n",
              "      <td>2697.000000</td>\n",
              "    </tr>\n",
              "    <tr>\n",
              "      <th>mean</th>\n",
              "      <td>281.840096</td>\n",
              "      <td>285.590555</td>\n",
              "      <td>277.790930</td>\n",
              "      <td>281.687509</td>\n",
              "      <td>269.937781</td>\n",
              "      <td>2.095423e+07</td>\n",
              "      <td>280.506509</td>\n",
              "      <td>52.252073</td>\n",
              "      <td>4.204540e+08</td>\n",
              "      <td>0.880628</td>\n",
              "    </tr>\n",
              "    <tr>\n",
              "      <th>std</th>\n",
              "      <td>112.558065</td>\n",
              "      <td>113.940536</td>\n",
              "      <td>111.105063</td>\n",
              "      <td>112.653891</td>\n",
              "      <td>119.392474</td>\n",
              "      <td>1.401489e+07</td>\n",
              "      <td>112.468248</td>\n",
              "      <td>11.668027</td>\n",
              "      <td>6.690166e+08</td>\n",
              "      <td>7.160803</td>\n",
              "    </tr>\n",
              "    <tr>\n",
              "      <th>min</th>\n",
              "      <td>120.363632</td>\n",
              "      <td>122.000000</td>\n",
              "      <td>116.545456</td>\n",
              "      <td>118.800003</td>\n",
              "      <td>103.862953</td>\n",
              "      <td>1.114874e+06</td>\n",
              "      <td>0.000000</td>\n",
              "      <td>0.000000</td>\n",
              "      <td>-7.247068e+08</td>\n",
              "      <td>-44.132980</td>\n",
              "    </tr>\n",
              "    <tr>\n",
              "      <th>25%</th>\n",
              "      <td>196.000000</td>\n",
              "      <td>198.681824</td>\n",
              "      <td>193.763641</td>\n",
              "      <td>196.254547</td>\n",
              "      <td>174.424301</td>\n",
              "      <td>1.276513e+07</td>\n",
              "      <td>194.997981</td>\n",
              "      <td>43.878674</td>\n",
              "      <td>6.809804e+07</td>\n",
              "      <td>-3.585203</td>\n",
              "    </tr>\n",
              "    <tr>\n",
              "      <th>50%</th>\n",
              "      <td>257.636353</td>\n",
              "      <td>260.200012</td>\n",
              "      <td>254.545456</td>\n",
              "      <td>257.409088</td>\n",
              "      <td>245.371460</td>\n",
              "      <td>1.756429e+07</td>\n",
              "      <td>256.292928</td>\n",
              "      <td>52.176866</td>\n",
              "      <td>2.813793e+08</td>\n",
              "      <td>0.490943</td>\n",
              "    </tr>\n",
              "    <tr>\n",
              "      <th>75%</th>\n",
              "      <td>327.450012</td>\n",
              "      <td>334.000000</td>\n",
              "      <td>322.450012</td>\n",
              "      <td>328.350006</td>\n",
              "      <td>322.700012</td>\n",
              "      <td>2.500477e+07</td>\n",
              "      <td>325.877780</td>\n",
              "      <td>61.040298</td>\n",
              "      <td>4.726909e+08</td>\n",
              "      <td>4.953047</td>\n",
              "    </tr>\n",
              "    <tr>\n",
              "      <th>max</th>\n",
              "      <td>673.400024</td>\n",
              "      <td>679.400024</td>\n",
              "      <td>652.000000</td>\n",
              "      <td>673.950012</td>\n",
              "      <td>673.950012</td>\n",
              "      <td>2.868577e+08</td>\n",
              "      <td>650.766656</td>\n",
              "      <td>100.000000</td>\n",
              "      <td>2.773598e+09</td>\n",
              "      <td>27.581640</td>\n",
              "    </tr>\n",
              "  </tbody>\n",
              "</table>\n",
              "</div>"
            ],
            "text/plain": [
              "              Open         High  ...           OBV          ROC\n",
              "count  2697.000000  2697.000000  ...  2.697000e+03  2697.000000\n",
              "mean    281.840096   285.590555  ...  4.204540e+08     0.880628\n",
              "std     112.558065   113.940536  ...  6.690166e+08     7.160803\n",
              "min     120.363632   122.000000  ... -7.247068e+08   -44.132980\n",
              "25%     196.000000   198.681824  ...  6.809804e+07    -3.585203\n",
              "50%     257.636353   260.200012  ...  2.813793e+08     0.490943\n",
              "75%     327.450012   334.000000  ...  4.726909e+08     4.953047\n",
              "max     673.400024   679.400024  ...  2.773598e+09    27.581640\n",
              "\n",
              "[8 rows x 10 columns]"
            ]
          },
          "metadata": {
            "tags": []
          },
          "execution_count": 79
        }
      ]
    },
    {
      "cell_type": "code",
      "metadata": {
        "id": "AGSHf-h1a0ht"
      },
      "source": [
        "class MyCustomEnv(StocksEnv):\n",
        "    _process_data = add_signals\n",
        "    \n",
        "env2 = MyCustomEnv(df=df, window_size=12, frame_bound=(12,200))\n",
        "\n"
      ],
      "execution_count": null,
      "outputs": []
    },
    {
      "cell_type": "code",
      "metadata": {
        "scrolled": true,
        "colab": {
          "base_uri": "https://localhost:8080/"
        },
        "id": "6CZqa6JCa0ht",
        "outputId": "ae169c24-328c-440a-eb72-c758a171641a"
      },
      "source": [
        "env2.signal_features"
      ],
      "execution_count": null,
      "outputs": [
        {
          "output_type": "execute_result",
          "data": {
            "text/plain": [
              "array([[ 1.52836365e+02,  0.00000000e+00],\n",
              "       [ 1.56145447e+02,  0.00000000e+00],\n",
              "       [ 1.53854538e+02,  0.00000000e+00],\n",
              "       [ 1.56781815e+02,  0.00000000e+00],\n",
              "       [ 1.59254547e+02,  0.00000000e+00],\n",
              "       [ 1.62445450e+02,  0.00000000e+00],\n",
              "       [ 1.63536362e+02,  0.00000000e+00],\n",
              "       [ 1.62045456e+02,  0.00000000e+00],\n",
              "       [ 1.60336365e+02,  0.00000000e+00],\n",
              "       [ 1.64072723e+02,  0.00000000e+00],\n",
              "       [ 1.63645447e+02,  0.00000000e+00],\n",
              "       [ 1.61245453e+02,  0.00000000e+00],\n",
              "       [ 1.64109085e+02,  7.37567944e+00],\n",
              "       [ 1.65218185e+02,  5.81044074e+00],\n",
              "       [ 1.65972733e+02,  7.87639724e+00],\n",
              "       [ 1.66672729e+02,  6.30871313e+00],\n",
              "       [ 1.68036362e+02,  5.51432580e+00],\n",
              "       [ 1.65245453e+02,  1.72365742e+00],\n",
              "       [ 1.68854538e+02,  3.25198397e+00],\n",
              "       [ 1.64527267e+02,  1.53155268e+00],\n",
              "       [ 1.70827271e+02,  6.54306076e+00],\n",
              "       [ 1.74909088e+02,  6.60461076e+00],\n",
              "       [ 1.76227264e+02,  7.68846178e+00],\n",
              "       [ 1.73709091e+02,  7.72960607e+00],\n",
              "       [ 1.72690903e+02,  5.22933732e+00],\n",
              "       [ 1.78199997e+02,  7.85737447e+00],\n",
              "       [ 1.79800003e+02,  8.33104950e+00],\n",
              "       [ 1.76699997e+02,  6.01614162e+00],\n",
              "       [ 1.75145447e+02,  4.23068258e+00],\n",
              "       [ 1.77527267e+02,  7.43246750e+00],\n",
              "       [ 1.74018188e+02,  3.05804663e+00],\n",
              "       [ 1.74345459e+02,  5.96751632e+00],\n",
              "       [ 1.75981812e+02,  3.01739939e+00],\n",
              "       [ 1.84181824e+02,  5.30146014e+00],\n",
              "       [ 1.80727264e+02,  2.55352088e+00],\n",
              "       [ 1.83909088e+02,  5.87188435e+00],\n",
              "       [ 1.82127274e+02,  5.46431265e+00],\n",
              "       [ 1.78963638e+02,  4.28530511e-01],\n",
              "       [ 1.78827271e+02, -5.41008080e-01],\n",
              "       [ 1.74081818e+02, -1.48170875e+00],\n",
              "       [ 1.75981812e+02,  4.77525829e-01],\n",
              "       [ 1.77763641e+02,  1.33147941e-01],\n",
              "       [ 1.80909088e+02,  3.95987323e+00],\n",
              "       [ 1.82527267e+02,  4.69287157e+00],\n",
              "       [ 1.82000000e+02,  3.41977868e+00],\n",
              "       [ 1.88990906e+02,  2.61105137e+00],\n",
              "       [ 1.88836365e+02,  4.48692696e+00],\n",
              "       [ 1.86836365e+02,  1.59169764e+00],\n",
              "       [ 1.90945450e+02,  4.84176592e+00],\n",
              "       [ 1.99636368e+02,  1.15513574e+01],\n",
              "       [ 2.00027267e+02,  1.18550134e+01],\n",
              "       [ 2.00709091e+02,  1.52958384e+01],\n",
              "       [ 2.00645447e+02,  1.40148775e+01],\n",
              "       [ 2.02581818e+02,  1.39613343e+01],\n",
              "       [ 2.05045456e+02,  1.33417110e+01],\n",
              "       [ 2.04936356e+02,  1.22771181e+01],\n",
              "       [ 2.04745453e+02,  1.24975016e+01],\n",
              "       [ 2.00045456e+02,  5.84924980e+00],\n",
              "       [ 2.02563629e+02,  7.26939667e+00],\n",
              "       [ 2.02745453e+02,  8.51498484e+00],\n",
              "       [ 2.01945450e+02,  5.76080761e+00],\n",
              "       [ 2.00354538e+02,  3.59739147e-01],\n",
              "       [ 2.02354538e+02,  1.16347663e+00],\n",
              "       [ 2.06399994e+02,  2.83539857e+00],\n",
              "       [ 2.10209091e+02,  4.76643979e+00],\n",
              "       [ 2.08672729e+02,  3.00664291e+00],\n",
              "       [ 2.08936356e+02,  1.89757907e+00],\n",
              "       [ 2.06836365e+02,  9.27121569e-01],\n",
              "       [ 2.04763641e+02,  8.88345812e-03],\n",
              "       [ 2.05927277e+02,  2.94024208e+00],\n",
              "       [ 2.07036362e+02,  2.20806300e+00],\n",
              "       [ 2.10672729e+02,  3.90996518e+00],\n",
              "       [ 2.07218185e+02,  2.61097024e+00],\n",
              "       [ 2.04481812e+02,  2.05998507e+00],\n",
              "       [ 2.02936356e+02,  2.87523884e-01],\n",
              "       [ 2.03554550e+02, -1.37860650e+00],\n",
              "       [ 2.02527267e+02, -3.65437274e+00],\n",
              "       [ 2.05381821e+02, -1.57706703e+00],\n",
              "       [ 2.05790909e+02, -1.50545690e+00],\n",
              "       [ 2.07654541e+02,  3.95566936e-01],\n",
              "       [ 2.05663635e+02,  4.39528175e-01],\n",
              "       [ 2.01227264e+02, -2.28236506e+00],\n",
              "       [ 1.98009094e+02, -4.36023285e+00],\n",
              "       [ 2.11454544e+02,  3.71103833e-01],\n",
              "       [ 2.24000000e+02,  8.09862056e+00],\n",
              "       [ 2.23881821e+02,  9.48740087e+00],\n",
              "       [ 2.25209091e+02,  1.09752319e+01],\n",
              "       [ 2.30190903e+02,  1.30856090e+01],\n",
              "       [ 2.28236359e+02,  1.26941382e+01],\n",
              "       [ 2.30754547e+02,  1.23539300e+01],\n",
              "       [ 2.28218185e+02,  1.08980891e+01],\n",
              "       [ 2.24927277e+02,  8.31801487e+00],\n",
              "       [ 2.18263641e+02,  6.12651142e+00],\n",
              "       [ 2.22399994e+02,  1.05217996e+01],\n",
              "       [ 2.18600006e+02,  1.03989728e+01],\n",
              "       [ 2.11709091e+02,  1.20379120e-01],\n",
              "       [ 2.08854538e+02, -6.76136698e+00],\n",
              "       [ 2.14554550e+02, -4.16615806e+00],\n",
              "       [ 2.10354538e+02, -6.59589413e+00],\n",
              "       [ 2.04563629e+02, -1.11330523e+01],\n",
              "       [ 2.02954544e+02, -1.10770320e+01],\n",
              "       [ 2.04390915e+02, -1.14249676e+01],\n",
              "       [ 2.09872726e+02, -8.03856141e+00],\n",
              "       [ 2.07654541e+02, -7.67925343e+00],\n",
              "       [ 2.12263641e+02, -2.74896907e+00],\n",
              "       [ 2.16572723e+02, -2.62017566e+00],\n",
              "       [ 2.14809097e+02, -1.73417599e+00],\n",
              "       [ 2.09309097e+02, -1.13362817e+00],\n",
              "       [ 2.01909088e+02, -3.32549625e+00],\n",
              "       [ 2.00800003e+02, -6.41074594e+00],\n",
              "       [ 1.92418182e+02, -8.52672624e+00],\n",
              "       [ 2.03109085e+02, -7.11047254e-01],\n",
              "       [ 2.03709091e+02,  3.71781338e-01],\n",
              "       [ 2.03545456e+02, -4.13648026e-01],\n",
              "       [ 1.96127274e+02, -6.54942313e+00],\n",
              "       [ 2.01045456e+02, -3.18273082e+00],\n",
              "       [ 2.00009094e+02, -5.77326717e+00],\n",
              "       [ 2.06972733e+02, -4.43268695e+00],\n",
              "       [ 2.05772720e+02, -4.20670124e+00],\n",
              "       [ 2.05390915e+02, -1.87195990e+00],\n",
              "       [ 2.03300003e+02,  6.88881778e-01],\n",
              "       [ 2.04645447e+02,  1.91506159e+00],\n",
              "       [ 2.02154541e+02,  5.05999928e+00],\n",
              "       [ 2.05354538e+02,  1.10554035e+00],\n",
              "       [ 2.06699997e+02,  1.46822400e+00],\n",
              "       [ 2.08199997e+02,  2.28673295e+00],\n",
              "       [ 2.08154541e+02,  6.13237886e+00],\n",
              "       [ 2.00736359e+02, -1.53744977e-01],\n",
              "       [ 1.94427277e+02, -2.79078191e+00],\n",
              "       [ 1.91536362e+02, -7.45816643e+00],\n",
              "       [ 1.90763641e+02, -7.29400814e+00],\n",
              "       [ 1.84363632e+02, -1.02376888e+01],\n",
              "       [ 1.85990906e+02, -8.51406642e+00],\n",
              "       [ 1.94445450e+02, -4.98422863e+00],\n",
              "       [ 1.86545456e+02, -7.72136258e+00],\n",
              "       [ 1.83490906e+02, -1.06467733e+01],\n",
              "       [ 1.82027267e+02, -1.19364924e+01],\n",
              "       [ 1.83899994e+02, -1.16714714e+01],\n",
              "       [ 1.86045456e+02, -1.06214762e+01],\n",
              "       [ 1.91009094e+02, -4.84579100e+00],\n",
              "       [ 1.93736359e+02, -3.55360616e-01],\n",
              "       [ 1.97072723e+02,  2.89050165e+00],\n",
              "       [ 1.88709091e+02, -1.07701350e+00],\n",
              "       [ 1.84427277e+02,  3.45211300e-02],\n",
              "       [ 1.85172729e+02, -4.39901223e-01],\n",
              "       [ 1.85745453e+02, -4.47426101e+00],\n",
              "       [ 1.80872726e+02, -3.04093684e+00],\n",
              "       [ 1.83890915e+02,  2.17999445e-01],\n",
              "       [ 1.86727264e+02,  2.58202906e+00],\n",
              "       [ 1.81090912e+02, -1.52750523e+00],\n",
              "       [ 1.77954544e+02, -4.34888980e+00],\n",
              "       [ 1.73009094e+02, -9.42363507e+00],\n",
              "       [ 1.74009094e+02, -1.01825308e+01],\n",
              "       [ 1.74518188e+02, -1.14447776e+01],\n",
              "       [ 1.81918182e+02, -3.59861243e+00],\n",
              "       [ 1.88045456e+02,  1.96184609e+00],\n",
              "       [ 1.91672729e+02,  3.51023610e+00],\n",
              "       [ 1.91018188e+02,  2.83868892e+00],\n",
              "       [ 1.92181824e+02,  6.25251662e+00],\n",
              "       [ 1.86581818e+02,  1.46331466e+00],\n",
              "       [ 1.88663635e+02,  1.03700488e+00],\n",
              "       [ 1.86745453e+02,  3.12248746e+00],\n",
              "       [ 1.82927277e+02,  2.79438357e+00],\n",
              "       [ 1.72972733e+02, -2.10172156e-02],\n",
              "       [ 1.79318176e+02,  3.05103710e+00],\n",
              "       [ 1.76518188e+02,  1.14601235e+00],\n",
              "       [ 1.86581818e+02,  2.56358941e+00],\n",
              "       [ 1.85372726e+02, -1.42132097e+00],\n",
              "       [ 1.84790909e+02, -3.59040156e+00],\n",
              "       [ 1.83663635e+02, -3.85018478e+00],\n",
              "       [ 1.85563629e+02, -3.44371515e+00],\n",
              "       [ 1.88227264e+02,  8.81890207e-01],\n",
              "       [ 1.84463638e+02, -2.22618256e+00],\n",
              "       [ 1.83072723e+02, -1.96670357e+00],\n",
              "       [ 1.85290909e+02,  1.29211578e+00],\n",
              "       [ 1.81199997e+02,  4.75639385e+00],\n",
              "       [ 1.86809097e+02,  4.17744658e+00],\n",
              "       [ 1.83972733e+02,  4.22310252e+00],\n",
              "       [ 1.82281815e+02, -2.30462063e+00],\n",
              "       [ 1.82472733e+02, -1.56441239e+00],\n",
              "       [ 1.82572723e+02, -1.20037584e+00],\n",
              "       [ 1.89254547e+02,  3.04410389e+00],\n",
              "       [ 1.91472733e+02,  3.18440818e+00],\n",
              "       [ 1.98381821e+02,  5.39483815e+00],\n",
              "       [ 2.00145447e+02,  8.50130064e+00],\n",
              "       [ 1.99909088e+02,  9.19654465e+00],\n",
              "       [ 2.01654541e+02,  8.83131952e+00],\n",
              "       [ 2.02945450e+02,  1.20008020e+01],\n",
              "       [ 2.00527267e+02,  7.34341655e+00],\n",
              "       [ 2.03490906e+02,  1.06092751e+01],\n",
              "       [ 2.02045456e+02,  1.08423550e+01],\n",
              "       [ 2.00090912e+02,  9.65523948e+00],\n",
              "       [ 2.00727264e+02,  9.94373129e+00],\n",
              "       [ 1.99690903e+02,  5.51445434e+00],\n",
              "       [ 2.00109085e+02,  4.51048691e+00],\n",
              "       [ 2.04881821e+02,  3.27650990e+00],\n",
              "       [ 2.00309097e+02,  8.17657935e-02],\n",
              "       [ 1.97109085e+02, -1.40063820e+00],\n",
              "       [ 1.98190903e+02, -1.71760987e+00],\n",
              "       [ 2.02245453e+02, -3.44918769e-01]])"
            ]
          },
          "metadata": {
            "tags": []
          },
          "execution_count": 81
        }
      ]
    },
    {
      "cell_type": "code",
      "metadata": {
        "colab": {
          "base_uri": "https://localhost:8080/",
          "height": 204
        },
        "id": "0p9VDgH1a0ht",
        "outputId": "3f4a3362-05a6-4b6f-fbf7-769a074401d1"
      },
      "source": [
        "df.head()"
      ],
      "execution_count": null,
      "outputs": [
        {
          "output_type": "execute_result",
          "data": {
            "text/html": [
              "<div>\n",
              "<style scoped>\n",
              "    .dataframe tbody tr th:only-of-type {\n",
              "        vertical-align: middle;\n",
              "    }\n",
              "\n",
              "    .dataframe tbody tr th {\n",
              "        vertical-align: top;\n",
              "    }\n",
              "\n",
              "    .dataframe thead th {\n",
              "        text-align: right;\n",
              "    }\n",
              "</style>\n",
              "<table border=\"1\" class=\"dataframe\">\n",
              "  <thead>\n",
              "    <tr style=\"text-align: right;\">\n",
              "      <th></th>\n",
              "      <th>Open</th>\n",
              "      <th>High</th>\n",
              "      <th>Low</th>\n",
              "      <th>Close</th>\n",
              "      <th>adjclose</th>\n",
              "      <th>Volume</th>\n",
              "      <th>ticker</th>\n",
              "      <th>date</th>\n",
              "      <th>SMA</th>\n",
              "      <th>RSI</th>\n",
              "      <th>OBV</th>\n",
              "      <th>ROC</th>\n",
              "    </tr>\n",
              "  </thead>\n",
              "  <tbody>\n",
              "    <tr>\n",
              "      <th>2010-07-05</th>\n",
              "      <td>152.363632</td>\n",
              "      <td>153.763641</td>\n",
              "      <td>151.636368</td>\n",
              "      <td>152.836365</td>\n",
              "      <td>131.895248</td>\n",
              "      <td>8028047.0</td>\n",
              "      <td>ICICIBANK.NS</td>\n",
              "      <td>2010-07-05</td>\n",
              "      <td>0.0</td>\n",
              "      <td>0.000000</td>\n",
              "      <td>0.0</td>\n",
              "      <td>0.0</td>\n",
              "    </tr>\n",
              "    <tr>\n",
              "      <th>2010-07-06</th>\n",
              "      <td>152.636368</td>\n",
              "      <td>156.672729</td>\n",
              "      <td>152.445450</td>\n",
              "      <td>156.145447</td>\n",
              "      <td>134.750931</td>\n",
              "      <td>12755105.0</td>\n",
              "      <td>ICICIBANK.NS</td>\n",
              "      <td>2010-07-06</td>\n",
              "      <td>0.0</td>\n",
              "      <td>100.000000</td>\n",
              "      <td>12755105.0</td>\n",
              "      <td>0.0</td>\n",
              "    </tr>\n",
              "    <tr>\n",
              "      <th>2010-07-07</th>\n",
              "      <td>155.818176</td>\n",
              "      <td>156.018188</td>\n",
              "      <td>153.500000</td>\n",
              "      <td>153.854538</td>\n",
              "      <td>132.773895</td>\n",
              "      <td>11463655.0</td>\n",
              "      <td>ICICIBANK.NS</td>\n",
              "      <td>2010-07-07</td>\n",
              "      <td>0.0</td>\n",
              "      <td>57.288073</td>\n",
              "      <td>1291450.0</td>\n",
              "      <td>0.0</td>\n",
              "    </tr>\n",
              "    <tr>\n",
              "      <th>2010-07-08</th>\n",
              "      <td>156.000000</td>\n",
              "      <td>157.418182</td>\n",
              "      <td>155.463638</td>\n",
              "      <td>156.781815</td>\n",
              "      <td>135.300125</td>\n",
              "      <td>9200433.0</td>\n",
              "      <td>ICICIBANK.NS</td>\n",
              "      <td>2010-07-08</td>\n",
              "      <td>0.0</td>\n",
              "      <td>73.099021</td>\n",
              "      <td>10491883.0</td>\n",
              "      <td>0.0</td>\n",
              "    </tr>\n",
              "    <tr>\n",
              "      <th>2010-07-09</th>\n",
              "      <td>157.545456</td>\n",
              "      <td>159.818176</td>\n",
              "      <td>157.454544</td>\n",
              "      <td>159.254547</td>\n",
              "      <td>137.434021</td>\n",
              "      <td>17697773.0</td>\n",
              "      <td>ICICIBANK.NS</td>\n",
              "      <td>2010-07-09</td>\n",
              "      <td>0.0</td>\n",
              "      <td>79.875824</td>\n",
              "      <td>28189656.0</td>\n",
              "      <td>0.0</td>\n",
              "    </tr>\n",
              "  </tbody>\n",
              "</table>\n",
              "</div>"
            ],
            "text/plain": [
              "                  Open        High         Low  ...         RSI         OBV  ROC\n",
              "2010-07-05  152.363632  153.763641  151.636368  ...    0.000000         0.0  0.0\n",
              "2010-07-06  152.636368  156.672729  152.445450  ...  100.000000  12755105.0  0.0\n",
              "2010-07-07  155.818176  156.018188  153.500000  ...   57.288073   1291450.0  0.0\n",
              "2010-07-08  156.000000  157.418182  155.463638  ...   73.099021  10491883.0  0.0\n",
              "2010-07-09  157.545456  159.818176  157.454544  ...   79.875824  28189656.0  0.0\n",
              "\n",
              "[5 rows x 12 columns]"
            ]
          },
          "metadata": {
            "tags": []
          },
          "execution_count": 82
        }
      ]
    },
    {
      "cell_type": "markdown",
      "metadata": {
        "id": "AmkZ_rkKa0hu"
      },
      "source": [
        "# 3. Build Environment and Train"
      ]
    },
    {
      "cell_type": "code",
      "metadata": {
        "id": "fW0BRCYXa0hu"
      },
      "source": [
        "env_maker = lambda: env2\n",
        "env = DummyVecEnv([env_maker])"
      ],
      "execution_count": null,
      "outputs": []
    },
    {
      "cell_type": "code",
      "metadata": {
        "scrolled": true,
        "colab": {
          "base_uri": "https://localhost:8080/"
        },
        "collapsed": true,
        "id": "CPtillh7a0hu",
        "outputId": "38ac084a-bd6a-4c74-a437-11688aeeab3f"
      },
      "source": [
        "model = A2C('MlpPolicy', env, verbose=1) \n",
        "model.learn(total_timesteps=10000)"
      ],
      "execution_count": null,
      "outputs": [
        {
          "output_type": "stream",
          "text": [
            "Using cuda device\n",
            "------------------------------------\n",
            "| time/                 |          |\n",
            "|    fps                | 332      |\n",
            "|    iterations         | 100      |\n",
            "|    time_elapsed       | 1        |\n",
            "|    total_timesteps    | 500      |\n",
            "| train/                |          |\n",
            "|    entropy_loss       | -0.666   |\n",
            "|    explained_variance | 0        |\n",
            "|    learning_rate      | 0.0007   |\n",
            "|    n_updates          | 99       |\n",
            "|    policy_loss        | -3.66    |\n",
            "|    value_loss         | 23.9     |\n",
            "------------------------------------\n",
            "------------------------------------\n",
            "| time/                 |          |\n",
            "|    fps                | 342      |\n",
            "|    iterations         | 200      |\n",
            "|    time_elapsed       | 2        |\n",
            "|    total_timesteps    | 1000     |\n",
            "| train/                |          |\n",
            "|    entropy_loss       | -0.595   |\n",
            "|    explained_variance | 0        |\n",
            "|    learning_rate      | 0.0007   |\n",
            "|    n_updates          | 199      |\n",
            "|    policy_loss        | 0.00156  |\n",
            "|    value_loss         | 2.71e-05 |\n",
            "------------------------------------\n",
            "------------------------------------\n",
            "| time/                 |          |\n",
            "|    fps                | 344      |\n",
            "|    iterations         | 300      |\n",
            "|    time_elapsed       | 4        |\n",
            "|    total_timesteps    | 1500     |\n",
            "| train/                |          |\n",
            "|    entropy_loss       | -0.494   |\n",
            "|    explained_variance | 0        |\n",
            "|    learning_rate      | 0.0007   |\n",
            "|    n_updates          | 299      |\n",
            "|    policy_loss        | 0.00283  |\n",
            "|    value_loss         | 0.000206 |\n",
            "------------------------------------\n",
            "------------------------------------\n",
            "| time/                 |          |\n",
            "|    fps                | 343      |\n",
            "|    iterations         | 400      |\n",
            "|    time_elapsed       | 5        |\n",
            "|    total_timesteps    | 2000     |\n",
            "| train/                |          |\n",
            "|    entropy_loss       | -0.2     |\n",
            "|    explained_variance | 0        |\n",
            "|    learning_rate      | 0.0007   |\n",
            "|    n_updates          | 399      |\n",
            "|    policy_loss        | 8.19e-05 |\n",
            "|    value_loss         | 3.04e-06 |\n",
            "------------------------------------\n",
            "------------------------------------\n",
            "| time/                 |          |\n",
            "|    fps                | 343      |\n",
            "|    iterations         | 500      |\n",
            "|    time_elapsed       | 7        |\n",
            "|    total_timesteps    | 2500     |\n",
            "| train/                |          |\n",
            "|    entropy_loss       | -0.221   |\n",
            "|    explained_variance | 0        |\n",
            "|    learning_rate      | 0.0007   |\n",
            "|    n_updates          | 499      |\n",
            "|    policy_loss        | -0.0412  |\n",
            "|    value_loss         | 2.39     |\n",
            "------------------------------------\n",
            "------------------------------------\n",
            "| time/                 |          |\n",
            "|    fps                | 345      |\n",
            "|    iterations         | 600      |\n",
            "|    time_elapsed       | 8        |\n",
            "|    total_timesteps    | 3000     |\n",
            "| train/                |          |\n",
            "|    entropy_loss       | -0.14    |\n",
            "|    explained_variance | 0        |\n",
            "|    learning_rate      | 0.0007   |\n",
            "|    n_updates          | 599      |\n",
            "|    policy_loss        | 0.529    |\n",
            "|    value_loss         | 0.249    |\n",
            "------------------------------------\n",
            "-------------------------------------\n",
            "| time/                 |           |\n",
            "|    fps                | 345       |\n",
            "|    iterations         | 700       |\n",
            "|    time_elapsed       | 10        |\n",
            "|    total_timesteps    | 3500      |\n",
            "| train/                |           |\n",
            "|    entropy_loss       | -0.083    |\n",
            "|    explained_variance | -0.000624 |\n",
            "|    learning_rate      | 0.0007    |\n",
            "|    n_updates          | 699       |\n",
            "|    policy_loss        | 1.14e-05  |\n",
            "|    value_loss         | 5.86e-07  |\n",
            "-------------------------------------\n",
            "------------------------------------\n",
            "| time/                 |          |\n",
            "|    fps                | 346      |\n",
            "|    iterations         | 800      |\n",
            "|    time_elapsed       | 11       |\n",
            "|    total_timesteps    | 4000     |\n",
            "| train/                |          |\n",
            "|    entropy_loss       | -0.103   |\n",
            "|    explained_variance | 0        |\n",
            "|    learning_rate      | 0.0007   |\n",
            "|    n_updates          | 799      |\n",
            "|    policy_loss        | 1.77e-06 |\n",
            "|    value_loss         | 8.33e-09 |\n",
            "------------------------------------\n",
            "-------------------------------------\n",
            "| time/                 |           |\n",
            "|    fps                | 346       |\n",
            "|    iterations         | 900       |\n",
            "|    time_elapsed       | 12        |\n",
            "|    total_timesteps    | 4500      |\n",
            "| train/                |           |\n",
            "|    entropy_loss       | -0.179    |\n",
            "|    explained_variance | 0         |\n",
            "|    learning_rate      | 0.0007    |\n",
            "|    n_updates          | 899       |\n",
            "|    policy_loss        | -5.25e-05 |\n",
            "|    value_loss         | 1.7e-06   |\n",
            "-------------------------------------\n",
            "-------------------------------------\n",
            "| time/                 |           |\n",
            "|    fps                | 347       |\n",
            "|    iterations         | 1000      |\n",
            "|    time_elapsed       | 14        |\n",
            "|    total_timesteps    | 5000      |\n",
            "| train/                |           |\n",
            "|    entropy_loss       | -0.208    |\n",
            "|    explained_variance | 0         |\n",
            "|    learning_rate      | 0.0007    |\n",
            "|    n_updates          | 999       |\n",
            "|    policy_loss        | -0.000108 |\n",
            "|    value_loss         | 4.73e-06  |\n",
            "-------------------------------------\n",
            "------------------------------------\n",
            "| time/                 |          |\n",
            "|    fps                | 347      |\n",
            "|    iterations         | 1100     |\n",
            "|    time_elapsed       | 15       |\n",
            "|    total_timesteps    | 5500     |\n",
            "| train/                |          |\n",
            "|    entropy_loss       | -0.109   |\n",
            "|    explained_variance | 0        |\n",
            "|    learning_rate      | 0.0007   |\n",
            "|    n_updates          | 1099     |\n",
            "|    policy_loss        | 6.28e-06 |\n",
            "|    value_loss         | 8.95e-08 |\n",
            "------------------------------------\n",
            "-------------------------------------\n",
            "| time/                 |           |\n",
            "|    fps                | 348       |\n",
            "|    iterations         | 1200      |\n",
            "|    time_elapsed       | 17        |\n",
            "|    total_timesteps    | 6000      |\n",
            "| train/                |           |\n",
            "|    entropy_loss       | -0.103    |\n",
            "|    explained_variance | -3.18e-05 |\n",
            "|    learning_rate      | 0.0007    |\n",
            "|    n_updates          | 1199      |\n",
            "|    policy_loss        | -2.45e-05 |\n",
            "|    value_loss         | 1.58e-06  |\n",
            "-------------------------------------\n",
            "------------------------------------\n",
            "| time/                 |          |\n",
            "|    fps                | 347      |\n",
            "|    iterations         | 1300     |\n",
            "|    time_elapsed       | 18       |\n",
            "|    total_timesteps    | 6500     |\n",
            "| train/                |          |\n",
            "|    entropy_loss       | -0.198   |\n",
            "|    explained_variance | 4.17e-07 |\n",
            "|    learning_rate      | 0.0007   |\n",
            "|    n_updates          | 1299     |\n",
            "|    policy_loss        | 3.98e-05 |\n",
            "|    value_loss         | 7.42e-07 |\n",
            "------------------------------------\n",
            "-------------------------------------\n",
            "| time/                 |           |\n",
            "|    fps                | 347       |\n",
            "|    iterations         | 1400      |\n",
            "|    time_elapsed       | 20        |\n",
            "|    total_timesteps    | 7000      |\n",
            "| train/                |           |\n",
            "|    entropy_loss       | -0.139    |\n",
            "|    explained_variance | 0         |\n",
            "|    learning_rate      | 0.0007    |\n",
            "|    n_updates          | 1399      |\n",
            "|    policy_loss        | -0.000102 |\n",
            "|    value_loss         | 1.25e-05  |\n",
            "-------------------------------------\n",
            "-------------------------------------\n",
            "| time/                 |           |\n",
            "|    fps                | 347       |\n",
            "|    iterations         | 1500      |\n",
            "|    time_elapsed       | 21        |\n",
            "|    total_timesteps    | 7500      |\n",
            "| train/                |           |\n",
            "|    entropy_loss       | -0.0844   |\n",
            "|    explained_variance | -1.19e-07 |\n",
            "|    learning_rate      | 0.0007    |\n",
            "|    n_updates          | 1499      |\n",
            "|    policy_loss        | 1.06e-05  |\n",
            "|    value_loss         | 4.91e-07  |\n",
            "-------------------------------------\n",
            "-------------------------------------\n",
            "| time/                 |           |\n",
            "|    fps                | 347       |\n",
            "|    iterations         | 1600      |\n",
            "|    time_elapsed       | 23        |\n",
            "|    total_timesteps    | 8000      |\n",
            "| train/                |           |\n",
            "|    entropy_loss       | -0.0781   |\n",
            "|    explained_variance | -2.44e-05 |\n",
            "|    learning_rate      | 0.0007    |\n",
            "|    n_updates          | 1599      |\n",
            "|    policy_loss        | 1.13e-05  |\n",
            "|    value_loss         | 6.79e-07  |\n",
            "-------------------------------------\n",
            "------------------------------------\n",
            "| time/                 |          |\n",
            "|    fps                | 347      |\n",
            "|    iterations         | 1700     |\n",
            "|    time_elapsed       | 24       |\n",
            "|    total_timesteps    | 8500     |\n",
            "| train/                |          |\n",
            "|    entropy_loss       | -0.204   |\n",
            "|    explained_variance | 0        |\n",
            "|    learning_rate      | 0.0007   |\n",
            "|    n_updates          | 1699     |\n",
            "|    policy_loss        | 0.000168 |\n",
            "|    value_loss         | 1.21e-05 |\n",
            "------------------------------------\n",
            "------------------------------------\n",
            "| time/                 |          |\n",
            "|    fps                | 346      |\n",
            "|    iterations         | 1800     |\n",
            "|    time_elapsed       | 25       |\n",
            "|    total_timesteps    | 9000     |\n",
            "| train/                |          |\n",
            "|    entropy_loss       | -0.683   |\n",
            "|    explained_variance | 0        |\n",
            "|    learning_rate      | 0.0007   |\n",
            "|    n_updates          | 1799     |\n",
            "|    policy_loss        | -0.583   |\n",
            "|    value_loss         | 0.634    |\n",
            "------------------------------------\n",
            "------------------------------------\n",
            "| time/                 |          |\n",
            "|    fps                | 347      |\n",
            "|    iterations         | 1900     |\n",
            "|    time_elapsed       | 27       |\n",
            "|    total_timesteps    | 9500     |\n",
            "| train/                |          |\n",
            "|    entropy_loss       | -0.69    |\n",
            "|    explained_variance | 0        |\n",
            "|    learning_rate      | 0.0007   |\n",
            "|    n_updates          | 1899     |\n",
            "|    policy_loss        | 6.46     |\n",
            "|    value_loss         | 133      |\n",
            "------------------------------------\n",
            "------------------------------------\n",
            "| time/                 |          |\n",
            "|    fps                | 346      |\n",
            "|    iterations         | 2000     |\n",
            "|    time_elapsed       | 28       |\n",
            "|    total_timesteps    | 10000    |\n",
            "| train/                |          |\n",
            "|    entropy_loss       | -0.69    |\n",
            "|    explained_variance | 5.96e-08 |\n",
            "|    learning_rate      | 0.0007   |\n",
            "|    n_updates          | 1999     |\n",
            "|    policy_loss        | -11.7    |\n",
            "|    value_loss         | 249      |\n",
            "------------------------------------\n"
          ],
          "name": "stdout"
        },
        {
          "output_type": "execute_result",
          "data": {
            "text/plain": [
              "<stable_baselines3.a2c.a2c.A2C at 0x7f7d61489450>"
            ]
          },
          "metadata": {
            "tags": []
          },
          "execution_count": 84
        }
      ]
    },
    {
      "cell_type": "markdown",
      "metadata": {
        "id": "rsHxAWs2a0hu"
      },
      "source": [
        "# 4. Evaluation"
      ]
    },
    {
      "cell_type": "code",
      "metadata": {
        "colab": {
          "base_uri": "https://localhost:8080/"
        },
        "id": "AOIE1ojma0hu",
        "outputId": "c37325b7-92fb-4515-96db-a50090e932f4"
      },
      "source": [
        "env = MyCustomEnv(df=df, window_size=12, frame_bound=(12,250))\n",
        "obs = env.reset()\n",
        "while True: \n",
        "    obs = obs[np.newaxis, ...]\n",
        "    action, _states = model.predict(obs)\n",
        "    obs, rewards, done, info = env.step(action)\n",
        "    if done:\n",
        "        print(\"info\", info)\n",
        "        break"
      ],
      "execution_count": null,
      "outputs": [
        {
          "output_type": "stream",
          "text": [
            "info {'total_reward': -18.690872192382812, 'total_profit': 0.3500849001433131, 'position': 1}\n"
          ],
          "name": "stdout"
        }
      ]
    },
    {
      "cell_type": "code",
      "metadata": {
        "colab": {
          "base_uri": "https://localhost:8080/",
          "height": 417
        },
        "id": "a_L8l0T2a0hv",
        "outputId": "a92ca8d6-132d-4a4d-955a-5e7e98af4c18"
      },
      "source": [
        "plt.figure(figsize=(15,6))\n",
        "plt.cla()\n",
        "env.render_all()\n",
        "plt.show()"
      ],
      "execution_count": null,
      "outputs": [
        {
          "output_type": "display_data",
          "data": {
            "image/png": "[encoded data removed]",
            "text/plain": [
              "<Figure size 1080x432 with 1 Axes>"
            ]
          },
          "metadata": {
            "tags": [],
            "needs_background": "light"
          }
        }
      ]
    },
    {
      "cell_type": "code",
      "metadata": {
        "colab": {
          "base_uri": "https://localhost:8080/"
        },
        "id": "fNZF9vDROqSv",
        "outputId": "218dcee0-5348-493e-ee1a-74662e1d2e25"
      },
      "source": [
        "action[0]\n",
        "#print(\"> max_possible_profit:\", MyCustomEnv.max_possible_profit)"
      ],
      "execution_count": null,
      "outputs": [
        {
          "output_type": "execute_result",
          "data": {
            "text/plain": [
              "1"
            ]
          },
          "metadata": {
            "tags": []
          },
          "execution_count": 87
        }
      ]
    },
    {
      "cell_type": "code",
      "metadata": {
        "id": "zQUqcjvAa0hv"
      },
      "source": [
        "#model.save('MyFirstRl.h5')\n",
        "#!zip -r /content/models.zip /content\n",
        "#from google.colab import files\n",
        "#files.download(\"MyFirstRl.h5\")"
      ],
      "execution_count": null,
      "outputs": []
    }
  ]
}